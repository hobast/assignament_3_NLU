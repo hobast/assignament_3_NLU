{
 "cells": [
  {
   "cell_type": "code",
   "execution_count": 1,
   "id": "f027acb7",
   "metadata": {},
   "outputs": [
    {
     "name": "stderr",
     "output_type": "stream",
     "text": [
      "c:\\Users\\LENOVO\\AppData\\Local\\Programs\\Python\\Python310\\lib\\site-packages\\tqdm\\auto.py:21: TqdmWarning: IProgress not found. Please update jupyter and ipywidgets. See https://ipywidgets.readthedocs.io/en/stable/user_install.html\n",
      "  from .autonotebook import tqdm as notebook_tqdm\n",
      "c:\\Users\\LENOVO\\AppData\\Local\\Programs\\Python\\Python310\\lib\\site-packages\\huggingface_hub\\file_download.py:140: UserWarning: `huggingface_hub` cache-system uses symlinks by default to efficiently store duplicated files but your machine does not support them in C:\\Users\\LENOVO\\.cache\\huggingface\\hub\\datasets--ag_news. Caching files will still work but in a degraded version that might require more space on your disk. This warning can be disabled by setting the `HF_HUB_DISABLE_SYMLINKS_WARNING` environment variable. For more details, see https://huggingface.co/docs/huggingface_hub/how-to-cache#limitations.\n",
      "To support symlinks on Windows, you either need to activate Developer Mode or to run Python as an administrator. In order to activate developer mode, see this article: https://docs.microsoft.com/en-us/windows/apps/get-started/enable-your-device-for-development\n",
      "  warnings.warn(message)\n",
      "Generating train split: 100%|██████████| 120000/120000 [00:00<00:00, 1918178.00 examples/s]\n",
      "Generating test split: 100%|██████████| 7600/7600 [00:00<00:00, 1267262.08 examples/s]"
     ]
    },
    {
     "name": "stdout",
     "output_type": "stream",
     "text": [
      "Wall St. Bears Claw Back Into the Black (Reuters) Reuters - Short-sellers, Wall Street's dwindling\\band of ultra-cynics, are seeing green again.\n"
     ]
    },
    {
     "name": "stderr",
     "output_type": "stream",
     "text": [
      "\n"
     ]
    }
   ],
   "source": [
    "from datasets import load_dataset\n",
    "\n",
    "# Load the AG News dataset (you can load just a small part for quick testing)\n",
    "dataset = load_dataset(\"ag_news\", split=\"train[:1000]\")  # first 1000 samples\n",
    "\n",
    "# Access just the text data\n",
    "documents = [item[\"text\"] for item in dataset]\n",
    "\n",
    "# Let's see the first document\n",
    "print(documents[0])\n"
   ]
  },
  {
   "cell_type": "code",
   "execution_count": 8,
   "id": "7c54e294",
   "metadata": {},
   "outputs": [],
   "source": [
    "import tkinter as tk\n",
    "from tkinter import scrolledtext\n",
    "from sklearn.feature_extraction.text import TfidfVectorizer\n",
    "from sklearn.metrics.pairwise import cosine_similarity\n",
    "\n",
    "\n",
    "# Step 1: TF-IDF Vectorization\n",
    "vectorizer = TfidfVectorizer(stop_words='english')\n",
    "doc_vectors = vectorizer.fit_transform(documents)\n",
    "\n",
    "# Step 2: Define search function\n",
    "def search(query, top_k=5):\n",
    "    query_vec = vectorizer.transform([query])\n",
    "    similarity = cosine_similarity(query_vec, doc_vectors).flatten()\n",
    "    top_indices = similarity.argsort()[-top_k:][::-1]\n",
    "    results = [(documents[i], similarity[i]) for i in top_indices]\n",
    "    return results\n",
    "\n",
    "# Step 3: Build GUI\n",
    "def on_search():\n",
    "    query = query_entry.get()\n",
    "    if not query.strip():\n",
    "        result_box.delete(1.0, tk.END)\n",
    "        result_box.insert(tk.END, \"Please enter a search query.\")\n",
    "        return\n",
    "\n",
    "    result_box.delete(1.0, tk.END)\n",
    "    results = search(query)\n",
    "    for i, (text, score) in enumerate(results):\n",
    "        result_box.insert(tk.END, f\"Result {i+1} (Score: {score:.4f}):\\n{text}\\n\\n\")\n",
    "\n",
    "# Create tkinter window\n",
    "root = tk.Tk()\n",
    "root.title(\"TF-IDF IR Search System\")\n",
    "root.geometry(\"800x500\")\n",
    "\n",
    "query_label = tk.Label(root, text=\"Enter your query:\")\n",
    "query_label.pack(pady=5)\n",
    "\n",
    "query_entry = tk.Entry(root, width=80)\n",
    "query_entry.pack(pady=5)\n",
    "\n",
    "search_button = tk.Button(root, text=\"Search\", command=on_search)\n",
    "search_button.pack(pady=10)\n",
    "\n",
    "result_box = scrolledtext.ScrolledText(root, wrap=tk.WORD, width=100, height=20)\n",
    "result_box.pack(pady=10)\n",
    "\n",
    "root.mainloop()\n"
   ]
  }
 ],
 "metadata": {
  "kernelspec": {
   "display_name": "Python 3",
   "language": "python",
   "name": "python3"
  },
  "language_info": {
   "codemirror_mode": {
    "name": "ipython",
    "version": 3
   },
   "file_extension": ".py",
   "mimetype": "text/x-python",
   "name": "python",
   "nbconvert_exporter": "python",
   "pygments_lexer": "ipython3",
   "version": "3.10.10"
  }
 },
 "nbformat": 4,
 "nbformat_minor": 5
}
